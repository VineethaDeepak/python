{
  "nbformat": 4,
  "nbformat_minor": 0,
  "metadata": {
    "colab": {
      "name": "ProgExSession18.ipynb",
      "provenance": [],
      "authorship_tag": "ABX9TyPj8Q7NVTkiLQ85gHEjhEQP",
      "include_colab_link": true
    },
    "kernelspec": {
      "name": "python3",
      "display_name": "Python 3"
    }
  },
  "cells": [
    {
      "cell_type": "markdown",
      "metadata": {
        "id": "view-in-github",
        "colab_type": "text"
      },
      "source": [
        "<a href=\"https://colab.research.google.com/github/VineethaDeepak/python/blob/master/ProgExSession18.ipynb\" target=\"_parent\"><img src=\"https://colab.research.google.com/assets/colab-badge.svg\" alt=\"Open In Colab\"/></a>"
      ]
    },
    {
      "cell_type": "code",
      "metadata": {
        "id": "FvkISKmB-Ea9",
        "outputId": "9815cb0e-1e69-4afa-e169-498f4cb7614a",
        "colab": {
          "base_uri": "https://localhost:8080/",
          "height": 34
        }
      },
      "source": [
        "#Program to get largest number from a list\n",
        "list=[1,4,45,15,5]\n",
        "max=list[0]\n",
        "for i in list:\n",
        "  if i>max:\n",
        "    max=i\n",
        "print(\"Largest number is:\",max)\n"
      ],
      "execution_count": 9,
      "outputs": [
        {
          "output_type": "stream",
          "text": [
            "Largest number is: 45\n"
          ],
          "name": "stdout"
        }
      ]
    },
    {
      "cell_type": "code",
      "metadata": {
        "id": "wiyhwrD0ARqY",
        "outputId": "648d5670-3a0e-404f-da68-46dfabdb9e3a",
        "colab": {
          "base_uri": "https://localhost:8080/",
          "height": 68
        }
      },
      "source": [
        "#Program to search an element from a list\n",
        "list=[1,45,15,5,24,8]\n",
        "print(list)\n",
        "num=int(input(\"Enter a number to search: \"))\n",
        "for i in list:\n",
        "  if i==num:\n",
        "    print(\"Element found!\")\n",
        "    break\n",
        "else:\n",
        "  print(\"Element is not found!\")"
      ],
      "execution_count": 10,
      "outputs": [
        {
          "output_type": "stream",
          "text": [
            "[1, 45, 15, 5, 24, 8]\n",
            "Enter a number to search: 24\n",
            "Element found!\n"
          ],
          "name": "stdout"
        }
      ]
    },
    {
      "cell_type": "code",
      "metadata": {
        "id": "w9wA_IKRBOXG",
        "outputId": "545ab9f9-87fb-4772-d6fd-2e0f3ae7f64d",
        "colab": {
          "base_uri": "https://localhost:8080/",
          "height": 34
        }
      },
      "source": [
        "#Program to sum all items in a list\n",
        "list=[2,45,7,8,5,67]\n",
        "sum=0\n",
        "for i in list:\n",
        "  sum=sum+i\n",
        "print(\"Sum:\",sum)"
      ],
      "execution_count": 13,
      "outputs": [
        {
          "output_type": "stream",
          "text": [
            "Sum: 134\n"
          ],
          "name": "stdout"
        }
      ]
    },
    {
      "cell_type": "code",
      "metadata": {
        "id": "V0hvT4PMBteM",
        "outputId": "aa16873d-f9cf-4985-e04e-bd5e58027ba5",
        "colab": {
          "base_uri": "https://localhost:8080/",
          "height": 34
        }
      },
      "source": [
        "#program to remove duplicates from a list\n",
        "duplicatelist=[4,57,4,55,97,65]\n",
        "final_list=[]\n",
        "for num in duplicatelist:\n",
        "  if num not in final_list:\n",
        "    final_list.append(num)\n",
        "print(final_list)\n"
      ],
      "execution_count": 23,
      "outputs": [
        {
          "output_type": "stream",
          "text": [
            "[4, 57, 55, 97, 65]\n"
          ],
          "name": "stdout"
        }
      ]
    },
    {
      "cell_type": "code",
      "metadata": {
        "id": "hW3Xl1fUEWMd",
        "outputId": "b6ccce95-937d-4f4a-da8e-617aef32f050",
        "colab": {
          "base_uri": "https://localhost:8080/",
          "height": 51
        }
      },
      "source": [
        "#function that takes two lists and returns True if they have atleast one common element\n",
        "def list(list1,list2):\n",
        "  for i in list1:\n",
        "    for j in list2:\n",
        "      if i==j:\n",
        "        result= True\n",
        "        return result\n",
        "print(list([24,45,5,6,78],[5,27,7,9,66,3]))\n",
        "print(list([25,45,7,8],[2,4,1,3]))"
      ],
      "execution_count": 28,
      "outputs": [
        {
          "output_type": "stream",
          "text": [
            "True\n",
            "None\n"
          ],
          "name": "stdout"
        }
      ]
    },
    {
      "cell_type": "code",
      "metadata": {
        "id": "f940fZfbHTgH"
      },
      "source": [
        "#Program to append a list to the second list\n",
        "list1=[2,45,78,5,63]\n",
        "list2=['pink','green','vini']\n",
        "list=list1+list2\n",
        "print(list)"
      ],
      "execution_count": null,
      "outputs": []
    },
    {
      "cell_type": "code",
      "metadata": {
        "id": "YsSagXyEJxZ8",
        "outputId": "ab771456-eab8-4564-d46d-8af49482e33e",
        "colab": {
          "base_uri": "https://localhost:8080/",
          "height": 51
        }
      },
      "source": [
        "#Program to check number is composite or not\n",
        "num=int(input(\"Enter a number: \"))\n",
        "factor=0\n",
        "for i in range(1,num):\n",
        "  if num%i==0:\n",
        "    factor=i\n",
        "if factor>1:\n",
        "  print(num,\" is composite!\")\n",
        "elif num==1:\n",
        "  print(num,\" is neither prime nor commposite!\")\n",
        "else:\n",
        "  print(num,\" is not composite!\")"
      ],
      "execution_count": 32,
      "outputs": [
        {
          "output_type": "stream",
          "text": [
            "Enter a number: 5\n",
            "5  is not composite!\n"
          ],
          "name": "stdout"
        }
      ]
    },
    {
      "cell_type": "code",
      "metadata": {
        "id": "ruDvnP1MLz4R",
        "outputId": "1138aed2-38db-4d7f-d1a3-2a41c049d244",
        "colab": {
          "base_uri": "https://localhost:8080/",
          "height": 34
        }
      },
      "source": [
        "#Program to add 2 matrices using list\n",
        "X=[[2,4,7], [4,8,9], [7,2,1]]\n",
        "Y=[[2,0,4], [2,7,1], [1,1,0]]\n",
        "result=[[0,0,0], [0,0,0], [0,0,0]]\n",
        "for i in range(len(X)):\n",
        "  for j in range(len(X[0])):\n",
        "    result[i][j]=X[i][j]+ Y[i][j]\n",
        "print(\"Sum of matrix\",result)"
      ],
      "execution_count": 38,
      "outputs": [
        {
          "output_type": "stream",
          "text": [
            "Sum of matrix [[4, 4, 11], [6, 15, 10], [8, 3, 1]]\n"
          ],
          "name": "stdout"
        }
      ]
    },
    {
      "cell_type": "code",
      "metadata": {
        "id": "RcBZls7HN8TG",
        "outputId": "dc31b2c9-a3d5-42e8-def0-c6dcfe52fb31",
        "colab": {
          "base_uri": "https://localhost:8080/",
          "height": 51
        }
      },
      "source": [
        "#Program to check if string is palindrome or not\n",
        "def isPalindrome(string):\n",
        "  rev=''.join(reversed(string))\n",
        "  if string==rev:\n",
        "    return True\n",
        "  return False\n",
        "string=input(\"Enter a word: \")\n",
        "ans=isPalindrome(string)\n",
        "if (ans):\n",
        "  print(\"Palindrome!\")\n",
        "else:\n",
        "  print(\"Not palindrome!\")"
      ],
      "execution_count": 41,
      "outputs": [
        {
          "output_type": "stream",
          "text": [
            "Enter a word: racecar\n",
            "Palindrome!\n"
          ],
          "name": "stdout"
        }
      ]
    },
    {
      "cell_type": "code",
      "metadata": {
        "id": "J7Q3If4yQd2T",
        "outputId": "4c4a5d4c-3107-47ac-9b4d-964ed2967b74",
        "colab": {
          "base_uri": "https://localhost:8080/",
          "height": 238
        }
      },
      "source": [
        "#Program to print multiplication table of a number\n",
        "num=int(input(\"Enter a number: \"))\n",
        "start=1\n",
        "end=12\n",
        "for i in range(start,end+1):\n",
        "  print(num,\"x\",i,\"=\",num*i)"
      ],
      "execution_count": 45,
      "outputs": [
        {
          "output_type": "stream",
          "text": [
            "Enter a number: 13\n",
            "13 x 1 = 13\n",
            "13 x 2 = 26\n",
            "13 x 3 = 39\n",
            "13 x 4 = 52\n",
            "13 x 5 = 65\n",
            "13 x 6 = 78\n",
            "13 x 7 = 91\n",
            "13 x 8 = 104\n",
            "13 x 9 = 117\n",
            "13 x 10 = 130\n",
            "13 x 11 = 143\n",
            "13 x 12 = 156\n"
          ],
          "name": "stdout"
        }
      ]
    }
  ]
}