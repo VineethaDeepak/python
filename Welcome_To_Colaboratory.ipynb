{
  "nbformat": 4,
  "nbformat_minor": 0,
  "metadata": {
    "colab": {
      "name": "Welcome To Colaboratory",
      "provenance": [],
      "collapsed_sections": [],
      "include_colab_link": true
    },
    "kernelspec": {
      "display_name": "Python 3",
      "name": "python3"
    }
  },
  "cells": [
    {
      "cell_type": "markdown",
      "metadata": {
        "id": "view-in-github",
        "colab_type": "text"
      },
      "source": [
        "<a href=\"https://colab.research.google.com/github/VineethaDeepak/python/blob/master/Welcome_To_Colaboratory.ipynb\" target=\"_parent\"><img src=\"https://colab.research.google.com/assets/colab-badge.svg\" alt=\"Open In Colab\"/></a>"
      ]
    },
    {
      "cell_type": "code",
      "metadata": {
        "id": "wnmevqFPZn7Q",
        "colab_type": "code",
        "colab": {
          "base_uri": "https://localhost:8080/",
          "height": 68
        },
        "outputId": "e8c0f9d0-940a-49ac-8f7d-d0556ade4e88"
      },
      "source": [
        "#python code to check whether strings are equal or not\n",
        "a=input(\"Enter first string: \")\n",
        "b=input(\"Enter second string: \")\n",
        "if(a == b):\n",
        "  print(\"Equal\")\n",
        "elif(a!=b):\n",
        "  print(\"Not Equal\")"
      ],
      "execution_count": 23,
      "outputs": [
        {
          "output_type": "stream",
          "text": [
            "Enter first string: baby\n",
            "Enter second string: pink\n",
            "Not Equal\n"
          ],
          "name": "stdout"
        }
      ]
    },
    {
      "cell_type": "code",
      "metadata": {
        "id": "h9PiNNFaa10J",
        "colab_type": "code",
        "colab": {
          "base_uri": "https://localhost:8080/",
          "height": 68
        },
        "outputId": "d22ddd73-497f-4413-e397-36efb4d6d47b"
      },
      "source": [
        "#python code to add two numbers\n",
        "num1= int(input(\"Enter first number: \"))\n",
        "num2= int(input(\"Enter second number: \"))\n",
        "sum= num1+num2\n",
        "print(\"Sum of\", num1 , \"and\", num2 ,\"is\", sum)"
      ],
      "execution_count": 25,
      "outputs": [
        {
          "output_type": "stream",
          "text": [
            "Enter first number: 4\n",
            "Enter second number: 2\n",
            "Sum of 4 and 2 is 6\n"
          ],
          "name": "stdout"
        }
      ]
    },
    {
      "cell_type": "code",
      "metadata": {
        "id": "Yolgzc-tblea",
        "colab_type": "code",
        "colab": {
          "base_uri": "https://localhost:8080/",
          "height": 51
        },
        "outputId": "9b5bb97b-7f35-41de-ba0e-d05355268e57"
      },
      "source": [
        "#python code to compute the squareroot of the entered number\n",
        "num=int(input(\"Enter a number: \"))\n",
        "sqroot= num ** (1/2)\n",
        "print(\"Square root of\", num , \"is\", sqroot)"
      ],
      "execution_count": 30,
      "outputs": [
        {
          "output_type": "stream",
          "text": [
            "Enter a number: 9\n",
            "Square root of 9 is 3.0\n"
          ],
          "name": "stdout"
        }
      ]
    },
    {
      "cell_type": "code",
      "metadata": {
        "id": "1oUFRcQccey3",
        "colab_type": "code",
        "colab": {
          "base_uri": "https://localhost:8080/",
          "height": 68
        },
        "outputId": "19efb922-c78a-469a-df6b-40a9d4216ae8"
      },
      "source": [
        "#python code to compute the area of a triangle assuming it to be right angled\n",
        "base= int(input(\"Enter the base length of triangle: \"))\n",
        "height=int(input(\"Enter height of triangle: \"))\n",
        "area= 0.5*base*height\n",
        "print(\"Area of triangle is\", area)"
      ],
      "execution_count": 31,
      "outputs": [
        {
          "output_type": "stream",
          "text": [
            "Enter the base length of triangle: 2\n",
            "Enter height of triangle: 8\n",
            "Area of triangle is 8.0\n"
          ],
          "name": "stdout"
        }
      ]
    },
    {
      "cell_type": "code",
      "metadata": {
        "id": "A3vJwSS_dwjC",
        "colab_type": "code",
        "colab": {
          "base_uri": "https://localhost:8080/",
          "height": 51
        },
        "outputId": "aae65865-f726-44c9-afa2-28c22fd5269a"
      },
      "source": [
        "#python code to convert celsius to fahrenheit\n",
        "temp= float(input(\"Enter the temperature in celsius: \"))\n",
        "fahrenheit= (temp*(9.0/5.0))+32.0\n",
        "print(\"Tenperature in fahrenheit:\", fahrenheit,\"F\")"
      ],
      "execution_count": 33,
      "outputs": [
        {
          "output_type": "stream",
          "text": [
            "Enter the temperature in celsius: 45\n",
            "Tenperature in fahrenheit: 113.0 F\n"
          ],
          "name": "stdout"
        }
      ]
    },
    {
      "cell_type": "code",
      "metadata": {
        "id": "EHSeGKV7f3mh",
        "colab_type": "code",
        "colab": {
          "base_uri": "https://localhost:8080/",
          "height": 51
        },
        "outputId": "f76951c8-7d21-4987-eead-c57f1c78ce4f"
      },
      "source": [
        "#python code to check whether entered number is positive, negative or zero\n",
        "n=int(input(\"Enter a number: \"))\n",
        "if(n>0):\n",
        "  print(\"Number is positive\")\n",
        "elif(n<0):\n",
        "  print(\"Number is negative\")\n",
        "else:\n",
        "  print(\"Number is zero\")"
      ],
      "execution_count": 36,
      "outputs": [
        {
          "output_type": "stream",
          "text": [
            "Enter a number: -5\n",
            "Number is negative\n"
          ],
          "name": "stdout"
        }
      ]
    },
    {
      "cell_type": "code",
      "metadata": {
        "id": "uGmdmEFOggBo",
        "colab_type": "code",
        "colab": {
          "base_uri": "https://localhost:8080/",
          "height": 85
        },
        "outputId": "11ecc165-3d5b-492a-b58b-0c3160ce59cf"
      },
      "source": [
        "#python code to find the largest from three numbers entered by user\n",
        "n1= int(input(\"Enter first number: \"))\n",
        "n2= int(input(\"Enter second number: \"))\n",
        "n3= int(input(\"Enter third number: \"))\n",
        "if(n1>n2 and n1>n3):\n",
        "  print(n1 ,\"is largest\")\n",
        "elif(n2>n1 and n2>n3):\n",
        "  print(n2 ,\"is largest\")\n",
        "else:\n",
        "  print(n3 ,\"is largest\")"
      ],
      "execution_count": 38,
      "outputs": [
        {
          "output_type": "stream",
          "text": [
            "Enter first number: 5\n",
            "Enter second number: 15\n",
            "Enter third number: 25\n",
            "25 is largest\n"
          ],
          "name": "stdout"
        }
      ]
    }
  ]
}