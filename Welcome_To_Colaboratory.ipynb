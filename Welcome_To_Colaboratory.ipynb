{
  "nbformat": 4,
  "nbformat_minor": 0,
  "metadata": {
    "colab": {
      "name": "Welcome To Colaboratory",
      "provenance": [],
      "collapsed_sections": [],
      "include_colab_link": true
    },
    "kernelspec": {
      "display_name": "Python 3",
      "name": "python3"
    }
  },
  "cells": [
    {
      "cell_type": "markdown",
      "metadata": {
        "id": "view-in-github",
        "colab_type": "text"
      },
      "source": [
        "<a href=\"https://colab.research.google.com/github/VineethaDeepak/python/blob/master/Welcome_To_Colaboratory.ipynb\" target=\"_parent\"><img src=\"https://colab.research.google.com/assets/colab-badge.svg\" alt=\"Open In Colab\"/></a>"
      ]
    },
    {
      "cell_type": "code",
      "metadata": {
        "id": "k9IPQhIpoi0J",
        "colab_type": "code",
        "colab": {
          "base_uri": "https://localhost:8080/",
          "height": 136
        },
        "outputId": "889c4f59-ea36-445c-c2f2-acdb2783fb4f"
      },
      "source": [
        "list=[1,5,8,78,66,9]\n",
        "print(\"The list is:\\n\")\n",
        "print(list)\n",
        "num=int(input(\"Enter a value to search\\n\"))\n",
        "for i in list:\n",
        "  if i==num:\n",
        "    print(\"Element found\\n\")\n",
        "    break\n",
        "else:\n",
        "  print(\"Element not found\\n\")"
      ],
      "execution_count": 8,
      "outputs": [
        {
          "output_type": "stream",
          "text": [
            "The list is:\n",
            "\n",
            "[1, 5, 8, 78, 66, 9]\n",
            "Enter a value to search\n",
            "7\n",
            "Element not found\n",
            "\n"
          ],
          "name": "stdout"
        }
      ]
    }
  ]
}